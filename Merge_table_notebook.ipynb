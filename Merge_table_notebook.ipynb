{
 "cells": [
  {
   "cell_type": "code",
   "execution_count": 36,
   "metadata": {},
   "outputs": [],
   "source": [
    "import pandas as pd\n",
    "from citipy import citipy\n",
    "import numpy as np"
   ]
  },
  {
   "cell_type": "code",
   "execution_count": 3,
   "metadata": {},
   "outputs": [],
   "source": [
    "file1 = \"Resources/Original_Data/account_ownership_clean.csv\"\n",
    "file2 = \"Resources/Original_Data/IncomePerCapita_clean.csv\"\n",
    "file3 = \"Resources/Original_Data/mobile_subscriptions_clean.csv\"\n"
   ]
  },
  {
   "cell_type": "code",
   "execution_count": 4,
   "metadata": {},
   "outputs": [],
   "source": [
    "df1 = pd.read_csv(file1)\n",
    "df2 = pd.read_csv(file2)\n",
    "df3 = pd.read_csv(file3)"
   ]
  },
  {
   "cell_type": "code",
   "execution_count": 6,
   "metadata": {},
   "outputs": [
    {
     "data": {
      "text/plain": [
       "[           Country name    2011 AO    2014 AO    2017 AO\n",
       " 0           Afghanistan   9.005013   9.961000  14.893312\n",
       " 1               Albania  28.268126  37.986355  40.015171\n",
       " 2               Algeria  33.286114  50.475788  42.776627\n",
       " 3            Arab World  22.260538  30.277130  37.165211\n",
       " 4             Argentina  33.130219  50.197296  48.708488\n",
       " ..                  ...        ...        ...        ...\n",
       " 123       Venezuela, RB  44.116661  57.026325  73.494507\n",
       " 124             Vietnam  21.369493  30.950945  30.795792\n",
       " 125  West Bank and Gaza  19.428032  24.243807  25.022177\n",
       " 126              Zambia  21.364910  35.644871  45.863258\n",
       " 127            Zimbabwe  39.651211  32.389252  55.285137\n",
       " \n",
       " [128 rows x 4 columns],\n",
       "      Country name  2011 PCI   2014 PCI  2017 PCI\n",
       " 0           Aruba      19982     22913     24400\n",
       " 1     Afghanistan        519       532       488\n",
       " 2          Angola       1500      2398      1756\n",
       " 3         Albania       3667      3775      3673\n",
       " 4      Arab World       5389      6041      5153\n",
       " ..            ...        ...       ...       ...\n",
       " 204         Samoa       3342      3359      3656\n",
       " 205   Yemen, Rep.       1027      1418       842\n",
       " 206  South Africa       6382      5168      4957\n",
       " 207        Zambia       1140      1321      1104\n",
       " 208      Zimbabwe        793      1134      1233\n",
       " \n",
       " [209 rows x 4 columns],\n",
       "            Country name   2011 SUBS   2014 SUBS   2017 SUBS\n",
       " 0           Afghanistan    13797900    18407200    23929700\n",
       " 1               Albania     3100000     3359650     3625700\n",
       " 2               Algeria    35615900    43298200    45845700\n",
       " 3               Andorra       65044       66241       80337\n",
       " 4                Angola    12073200    14052600    13324000\n",
       " ..                  ...         ...         ...         ...\n",
       " 227  West Bank and Gaza     2884960     3197550     3996210\n",
       " 228               World  5890569241  6999953386  7750613241\n",
       " 229         Yemen, Rep.    11668000    17100000    15357900\n",
       " 230              Zambia     8164550    10114900    13438500\n",
       " 231            Zimbabwe     9200000    11798700    14092100\n",
       " \n",
       " [232 rows x 4 columns]]"
      ]
     },
     "execution_count": 6,
     "metadata": {},
     "output_type": "execute_result"
    }
   ],
   "source": [
    "df = [df1,df2,df3]\n",
    "#df"
   ]
  },
  {
   "cell_type": "code",
   "execution_count": 9,
   "metadata": {},
   "outputs": [
    {
     "data": {
      "text/html": [
       "<div>\n",
       "<style scoped>\n",
       "    .dataframe tbody tr th:only-of-type {\n",
       "        vertical-align: middle;\n",
       "    }\n",
       "\n",
       "    .dataframe tbody tr th {\n",
       "        vertical-align: top;\n",
       "    }\n",
       "\n",
       "    .dataframe thead th {\n",
       "        text-align: right;\n",
       "    }\n",
       "</style>\n",
       "<table border=\"1\" class=\"dataframe\">\n",
       "  <thead>\n",
       "    <tr style=\"text-align: right;\">\n",
       "      <th></th>\n",
       "      <th>Country name</th>\n",
       "      <th>2011 AO</th>\n",
       "      <th>2014 AO</th>\n",
       "      <th>2017 AO</th>\n",
       "      <th>Country name</th>\n",
       "      <th>2011 PCI</th>\n",
       "      <th>2014 PCI</th>\n",
       "      <th>2017 PCI</th>\n",
       "      <th>Country name</th>\n",
       "      <th>2011 SUBS</th>\n",
       "      <th>2014 SUBS</th>\n",
       "      <th>2017 SUBS</th>\n",
       "    </tr>\n",
       "  </thead>\n",
       "  <tbody>\n",
       "    <tr>\n",
       "      <th>0</th>\n",
       "      <td>Afghanistan</td>\n",
       "      <td>9.005013</td>\n",
       "      <td>9.961000</td>\n",
       "      <td>14.893312</td>\n",
       "      <td>Aruba</td>\n",
       "      <td>19982.0</td>\n",
       "      <td>22913.0</td>\n",
       "      <td>24400.0</td>\n",
       "      <td>Afghanistan</td>\n",
       "      <td>13797900</td>\n",
       "      <td>18407200</td>\n",
       "      <td>23929700</td>\n",
       "    </tr>\n",
       "    <tr>\n",
       "      <th>1</th>\n",
       "      <td>Albania</td>\n",
       "      <td>28.268126</td>\n",
       "      <td>37.986355</td>\n",
       "      <td>40.015171</td>\n",
       "      <td>Afghanistan</td>\n",
       "      <td>519.0</td>\n",
       "      <td>532.0</td>\n",
       "      <td>488.0</td>\n",
       "      <td>Albania</td>\n",
       "      <td>3100000</td>\n",
       "      <td>3359650</td>\n",
       "      <td>3625700</td>\n",
       "    </tr>\n",
       "    <tr>\n",
       "      <th>2</th>\n",
       "      <td>Algeria</td>\n",
       "      <td>33.286114</td>\n",
       "      <td>50.475788</td>\n",
       "      <td>42.776627</td>\n",
       "      <td>Angola</td>\n",
       "      <td>1500.0</td>\n",
       "      <td>2398.0</td>\n",
       "      <td>1756.0</td>\n",
       "      <td>Algeria</td>\n",
       "      <td>35615900</td>\n",
       "      <td>43298200</td>\n",
       "      <td>45845700</td>\n",
       "    </tr>\n",
       "    <tr>\n",
       "      <th>3</th>\n",
       "      <td>Arab World</td>\n",
       "      <td>22.260538</td>\n",
       "      <td>30.277130</td>\n",
       "      <td>37.165211</td>\n",
       "      <td>Albania</td>\n",
       "      <td>3667.0</td>\n",
       "      <td>3775.0</td>\n",
       "      <td>3673.0</td>\n",
       "      <td>Andorra</td>\n",
       "      <td>65044</td>\n",
       "      <td>66241</td>\n",
       "      <td>80337</td>\n",
       "    </tr>\n",
       "    <tr>\n",
       "      <th>4</th>\n",
       "      <td>Argentina</td>\n",
       "      <td>33.130219</td>\n",
       "      <td>50.197296</td>\n",
       "      <td>48.708488</td>\n",
       "      <td>Arab World</td>\n",
       "      <td>5389.0</td>\n",
       "      <td>6041.0</td>\n",
       "      <td>5153.0</td>\n",
       "      <td>Angola</td>\n",
       "      <td>12073200</td>\n",
       "      <td>14052600</td>\n",
       "      <td>13324000</td>\n",
       "    </tr>\n",
       "  </tbody>\n",
       "</table>\n",
       "</div>"
      ],
      "text/plain": [
       "  Country name    2011 AO    2014 AO    2017 AO Country name  2011 PCI   \\\n",
       "0  Afghanistan   9.005013   9.961000  14.893312        Aruba    19982.0   \n",
       "1      Albania  28.268126  37.986355  40.015171  Afghanistan      519.0   \n",
       "2      Algeria  33.286114  50.475788  42.776627       Angola     1500.0   \n",
       "3   Arab World  22.260538  30.277130  37.165211      Albania     3667.0   \n",
       "4    Argentina  33.130219  50.197296  48.708488   Arab World     5389.0   \n",
       "\n",
       "   2014 PCI  2017 PCI Country name  2011 SUBS  2014 SUBS  2017 SUBS  \n",
       "0   22913.0   24400.0  Afghanistan   13797900   18407200   23929700  \n",
       "1     532.0     488.0      Albania    3100000    3359650    3625700  \n",
       "2    2398.0    1756.0      Algeria   35615900   43298200   45845700  \n",
       "3    3775.0    3673.0      Andorra      65044      66241      80337  \n",
       "4    6041.0    5153.0       Angola   12073200   14052600   13324000  "
      ]
     },
     "execution_count": 9,
     "metadata": {},
     "output_type": "execute_result"
    }
   ],
   "source": [
    "table = pd.concat(df,join = \"outer\", axis = 1).fillna(0)\n",
    "table.head()"
   ]
  },
  {
   "cell_type": "code",
   "execution_count": 13,
   "metadata": {},
   "outputs": [
    {
     "data": {
      "text/html": [
       "<div>\n",
       "<style scoped>\n",
       "    .dataframe tbody tr th:only-of-type {\n",
       "        vertical-align: middle;\n",
       "    }\n",
       "\n",
       "    .dataframe tbody tr th {\n",
       "        vertical-align: top;\n",
       "    }\n",
       "\n",
       "    .dataframe thead th {\n",
       "        text-align: right;\n",
       "    }\n",
       "</style>\n",
       "<table border=\"1\" class=\"dataframe\">\n",
       "  <thead>\n",
       "    <tr style=\"text-align: right;\">\n",
       "      <th></th>\n",
       "      <th>Country name</th>\n",
       "      <th>2011 AO</th>\n",
       "      <th>2014 AO</th>\n",
       "      <th>2017 AO</th>\n",
       "      <th>2011 PCI</th>\n",
       "      <th>2014 PCI</th>\n",
       "      <th>2017 PCI</th>\n",
       "    </tr>\n",
       "  </thead>\n",
       "  <tbody>\n",
       "    <tr>\n",
       "      <th>0</th>\n",
       "      <td>Afghanistan</td>\n",
       "      <td>9.005013</td>\n",
       "      <td>9.961000</td>\n",
       "      <td>14.893312</td>\n",
       "      <td>519</td>\n",
       "      <td>532</td>\n",
       "      <td>488</td>\n",
       "    </tr>\n",
       "    <tr>\n",
       "      <th>1</th>\n",
       "      <td>Albania</td>\n",
       "      <td>28.268126</td>\n",
       "      <td>37.986355</td>\n",
       "      <td>40.015171</td>\n",
       "      <td>3667</td>\n",
       "      <td>3775</td>\n",
       "      <td>3673</td>\n",
       "    </tr>\n",
       "    <tr>\n",
       "      <th>2</th>\n",
       "      <td>Algeria</td>\n",
       "      <td>33.286114</td>\n",
       "      <td>50.475788</td>\n",
       "      <td>42.776627</td>\n",
       "      <td>3960</td>\n",
       "      <td>4106</td>\n",
       "      <td>3248</td>\n",
       "    </tr>\n",
       "    <tr>\n",
       "      <th>3</th>\n",
       "      <td>Arab World</td>\n",
       "      <td>22.260538</td>\n",
       "      <td>30.277130</td>\n",
       "      <td>37.165211</td>\n",
       "      <td>5389</td>\n",
       "      <td>6041</td>\n",
       "      <td>5153</td>\n",
       "    </tr>\n",
       "    <tr>\n",
       "      <th>4</th>\n",
       "      <td>Argentina</td>\n",
       "      <td>33.130219</td>\n",
       "      <td>50.197296</td>\n",
       "      <td>48.708488</td>\n",
       "      <td>10957</td>\n",
       "      <td>10434</td>\n",
       "      <td>12344</td>\n",
       "    </tr>\n",
       "  </tbody>\n",
       "</table>\n",
       "</div>"
      ],
      "text/plain": [
       "  Country name    2011 AO    2014 AO    2017 AO  2011 PCI   2014 PCI  2017 PCI\n",
       "0  Afghanistan   9.005013   9.961000  14.893312        519       532       488\n",
       "1      Albania  28.268126  37.986355  40.015171       3667      3775      3673\n",
       "2      Algeria  33.286114  50.475788  42.776627       3960      4106      3248\n",
       "3   Arab World  22.260538  30.277130  37.165211       5389      6041      5153\n",
       "4    Argentina  33.130219  50.197296  48.708488      10957     10434     12344"
      ]
     },
     "execution_count": 13,
     "metadata": {},
     "output_type": "execute_result"
    }
   ],
   "source": [
    "df4 = pd.merge(df1,df2,on= \"Country name\")\n",
    "df4.head()"
   ]
  },
  {
   "cell_type": "code",
   "execution_count": 14,
   "metadata": {},
   "outputs": [
    {
     "data": {
      "text/html": [
       "<div>\n",
       "<style scoped>\n",
       "    .dataframe tbody tr th:only-of-type {\n",
       "        vertical-align: middle;\n",
       "    }\n",
       "\n",
       "    .dataframe tbody tr th {\n",
       "        vertical-align: top;\n",
       "    }\n",
       "\n",
       "    .dataframe thead th {\n",
       "        text-align: right;\n",
       "    }\n",
       "</style>\n",
       "<table border=\"1\" class=\"dataframe\">\n",
       "  <thead>\n",
       "    <tr style=\"text-align: right;\">\n",
       "      <th></th>\n",
       "      <th>Country name</th>\n",
       "      <th>2011 AO</th>\n",
       "      <th>2014 AO</th>\n",
       "      <th>2017 AO</th>\n",
       "      <th>2011 PCI</th>\n",
       "      <th>2014 PCI</th>\n",
       "      <th>2017 PCI</th>\n",
       "      <th>2011 SUBS</th>\n",
       "      <th>2014 SUBS</th>\n",
       "      <th>2017 SUBS</th>\n",
       "    </tr>\n",
       "  </thead>\n",
       "  <tbody>\n",
       "    <tr>\n",
       "      <th>0</th>\n",
       "      <td>Afghanistan</td>\n",
       "      <td>9.005013</td>\n",
       "      <td>9.961000</td>\n",
       "      <td>14.893312</td>\n",
       "      <td>519</td>\n",
       "      <td>532</td>\n",
       "      <td>488</td>\n",
       "      <td>13797900</td>\n",
       "      <td>18407200</td>\n",
       "      <td>23929700</td>\n",
       "    </tr>\n",
       "    <tr>\n",
       "      <th>1</th>\n",
       "      <td>Albania</td>\n",
       "      <td>28.268126</td>\n",
       "      <td>37.986355</td>\n",
       "      <td>40.015171</td>\n",
       "      <td>3667</td>\n",
       "      <td>3775</td>\n",
       "      <td>3673</td>\n",
       "      <td>3100000</td>\n",
       "      <td>3359650</td>\n",
       "      <td>3625700</td>\n",
       "    </tr>\n",
       "    <tr>\n",
       "      <th>2</th>\n",
       "      <td>Algeria</td>\n",
       "      <td>33.286114</td>\n",
       "      <td>50.475788</td>\n",
       "      <td>42.776627</td>\n",
       "      <td>3960</td>\n",
       "      <td>4106</td>\n",
       "      <td>3248</td>\n",
       "      <td>35615900</td>\n",
       "      <td>43298200</td>\n",
       "      <td>45845700</td>\n",
       "    </tr>\n",
       "    <tr>\n",
       "      <th>3</th>\n",
       "      <td>Arab World</td>\n",
       "      <td>22.260538</td>\n",
       "      <td>30.277130</td>\n",
       "      <td>37.165211</td>\n",
       "      <td>5389</td>\n",
       "      <td>6041</td>\n",
       "      <td>5153</td>\n",
       "      <td>351957917</td>\n",
       "      <td>415029269</td>\n",
       "      <td>416484296</td>\n",
       "    </tr>\n",
       "    <tr>\n",
       "      <th>4</th>\n",
       "      <td>Argentina</td>\n",
       "      <td>33.130219</td>\n",
       "      <td>50.197296</td>\n",
       "      <td>48.708488</td>\n",
       "      <td>10957</td>\n",
       "      <td>10434</td>\n",
       "      <td>12344</td>\n",
       "      <td>60722700</td>\n",
       "      <td>61234200</td>\n",
       "      <td>61897400</td>\n",
       "    </tr>\n",
       "  </tbody>\n",
       "</table>\n",
       "</div>"
      ],
      "text/plain": [
       "  Country name    2011 AO    2014 AO    2017 AO  2011 PCI   2014 PCI  \\\n",
       "0  Afghanistan   9.005013   9.961000  14.893312        519       532   \n",
       "1      Albania  28.268126  37.986355  40.015171       3667      3775   \n",
       "2      Algeria  33.286114  50.475788  42.776627       3960      4106   \n",
       "3   Arab World  22.260538  30.277130  37.165211       5389      6041   \n",
       "4    Argentina  33.130219  50.197296  48.708488      10957     10434   \n",
       "\n",
       "   2017 PCI  2011 SUBS  2014 SUBS  2017 SUBS  \n",
       "0       488   13797900   18407200   23929700  \n",
       "1      3673    3100000    3359650    3625700  \n",
       "2      3248   35615900   43298200   45845700  \n",
       "3      5153  351957917  415029269  416484296  \n",
       "4     12344   60722700   61234200   61897400  "
      ]
     },
     "execution_count": 14,
     "metadata": {},
     "output_type": "execute_result"
    }
   ],
   "source": [
    "df5 = pd.merge(df4,df3, on=\"Country name\")\n",
    "df5.head()"
   ]
  },
  {
   "cell_type": "code",
   "execution_count": 18,
   "metadata": {},
   "outputs": [
    {
     "data": {
      "text/plain": [
       "1"
      ]
     },
     "execution_count": 18,
     "metadata": {},
     "output_type": "execute_result"
    }
   ],
   "source": [
    "df5.duplicated().sum()"
   ]
  },
  {
   "cell_type": "code",
   "execution_count": 29,
   "metadata": {},
   "outputs": [
    {
     "data": {
      "text/html": [
       "<div>\n",
       "<style scoped>\n",
       "    .dataframe tbody tr th:only-of-type {\n",
       "        vertical-align: middle;\n",
       "    }\n",
       "\n",
       "    .dataframe tbody tr th {\n",
       "        vertical-align: top;\n",
       "    }\n",
       "\n",
       "    .dataframe thead th {\n",
       "        text-align: right;\n",
       "    }\n",
       "</style>\n",
       "<table border=\"1\" class=\"dataframe\">\n",
       "  <thead>\n",
       "    <tr style=\"text-align: right;\">\n",
       "      <th></th>\n",
       "      <th>Country name</th>\n",
       "      <th>2011 AO</th>\n",
       "      <th>2014 AO</th>\n",
       "      <th>2017 AO</th>\n",
       "      <th>2011 PCI</th>\n",
       "      <th>2014 PCI</th>\n",
       "      <th>2017 PCI</th>\n",
       "      <th>2011 SUBS</th>\n",
       "      <th>2014 SUBS</th>\n",
       "      <th>2017 SUBS</th>\n",
       "    </tr>\n",
       "  </thead>\n",
       "  <tbody>\n",
       "    <tr>\n",
       "      <th>102</th>\n",
       "      <td>South Asia</td>\n",
       "      <td>32.381943</td>\n",
       "      <td>46.540955</td>\n",
       "      <td>69.559113</td>\n",
       "      <td>1204</td>\n",
       "      <td>1326</td>\n",
       "      <td>1663</td>\n",
       "      <td>1133612138</td>\n",
       "      <td>1271478854</td>\n",
       "      <td>1554226943</td>\n",
       "    </tr>\n",
       "    <tr>\n",
       "      <th>103</th>\n",
       "      <td>South Asia</td>\n",
       "      <td>32.381943</td>\n",
       "      <td>46.540955</td>\n",
       "      <td>69.559113</td>\n",
       "      <td>1204</td>\n",
       "      <td>1326</td>\n",
       "      <td>1663</td>\n",
       "      <td>1133612138</td>\n",
       "      <td>1271478854</td>\n",
       "      <td>1554226943</td>\n",
       "    </tr>\n",
       "  </tbody>\n",
       "</table>\n",
       "</div>"
      ],
      "text/plain": [
       "    Country name    2011 AO    2014 AO    2017 AO  2011 PCI   2014 PCI  \\\n",
       "102   South Asia  32.381943  46.540955  69.559113       1204      1326   \n",
       "103   South Asia  32.381943  46.540955  69.559113       1204      1326   \n",
       "\n",
       "     2017 PCI   2011 SUBS   2014 SUBS   2017 SUBS  \n",
       "102      1663  1133612138  1271478854  1554226943  \n",
       "103      1663  1133612138  1271478854  1554226943  "
      ]
     },
     "execution_count": 29,
     "metadata": {},
     "output_type": "execute_result"
    }
   ],
   "source": [
    "df5[df5.duplicated(keep=False)]"
   ]
  },
  {
   "cell_type": "code",
   "execution_count": 21,
   "metadata": {},
   "outputs": [
    {
     "data": {
      "text/plain": [
       "121"
      ]
     },
     "execution_count": 21,
     "metadata": {},
     "output_type": "execute_result"
    }
   ],
   "source": [
    "len(df5)"
   ]
  },
  {
   "cell_type": "code",
   "execution_count": 27,
   "metadata": {},
   "outputs": [],
   "source": [
    "df6 = df5.drop_duplicates()"
   ]
  },
  {
   "cell_type": "code",
   "execution_count": 28,
   "metadata": {},
   "outputs": [
    {
     "data": {
      "text/plain": [
       "120"
      ]
     },
     "execution_count": 28,
     "metadata": {},
     "output_type": "execute_result"
    }
   ],
   "source": [
    "len(df6)"
   ]
  },
  {
   "cell_type": "code",
   "execution_count": 30,
   "metadata": {},
   "outputs": [
    {
     "data": {
      "text/html": [
       "<div>\n",
       "<style scoped>\n",
       "    .dataframe tbody tr th:only-of-type {\n",
       "        vertical-align: middle;\n",
       "    }\n",
       "\n",
       "    .dataframe tbody tr th {\n",
       "        vertical-align: top;\n",
       "    }\n",
       "\n",
       "    .dataframe thead th {\n",
       "        text-align: right;\n",
       "    }\n",
       "</style>\n",
       "<table border=\"1\" class=\"dataframe\">\n",
       "  <thead>\n",
       "    <tr style=\"text-align: right;\">\n",
       "      <th></th>\n",
       "      <th>Country name</th>\n",
       "      <th>2011 AO</th>\n",
       "      <th>2014 AO</th>\n",
       "      <th>2017 AO</th>\n",
       "      <th>2011 PCI</th>\n",
       "      <th>2014 PCI</th>\n",
       "      <th>2017 PCI</th>\n",
       "      <th>2011 SUBS</th>\n",
       "      <th>2014 SUBS</th>\n",
       "      <th>2017 SUBS</th>\n",
       "    </tr>\n",
       "  </thead>\n",
       "  <tbody>\n",
       "  </tbody>\n",
       "</table>\n",
       "</div>"
      ],
      "text/plain": [
       "Empty DataFrame\n",
       "Columns: [Country name, 2011 AO, 2014 AO, 2017 AO, 2011 PCI , 2014 PCI, 2017 PCI, 2011 SUBS, 2014 SUBS, 2017 SUBS]\n",
       "Index: []"
      ]
     },
     "execution_count": 30,
     "metadata": {},
     "output_type": "execute_result"
    }
   ],
   "source": [
    "df6[df6.duplicated(keep=False)]"
   ]
  },
  {
   "cell_type": "code",
   "execution_count": 31,
   "metadata": {},
   "outputs": [],
   "source": [
    "#df6.to_csv(\"Mergerd_table.csv\")"
   ]
  },
  {
   "cell_type": "code",
   "execution_count": 32,
   "metadata": {},
   "outputs": [
    {
     "data": {
      "text/plain": [
       "0      Afghanistan\n",
       "1          Albania\n",
       "2          Algeria\n",
       "3       Arab World\n",
       "4        Argentina\n",
       "          ...     \n",
       "116        Uruguay\n",
       "117     Uzbekistan\n",
       "118        Vietnam\n",
       "119         Zambia\n",
       "120       Zimbabwe\n",
       "Name: Country name, Length: 120, dtype: object"
      ]
     },
     "execution_count": 32,
     "metadata": {},
     "output_type": "execute_result"
    }
   ],
   "source": [
    "df6['Country name']"
   ]
  },
  {
   "cell_type": "code",
   "execution_count": 43,
   "metadata": {},
   "outputs": [
    {
     "data": {
      "text/plain": [
       "2"
      ]
     },
     "execution_count": 43,
     "metadata": {},
     "output_type": "execute_result"
    }
   ],
   "source": [
    "lat_range = (-90, 90)\n",
    "lng_range = (-180, 180)\n",
    "\n",
    "# List for holding lat_lngs and cities\n",
    "lat_lngs = []\n",
    "cities = []\n",
    "\n",
    "# Create a set of random lat and lng combinations\n",
    "lats = np.random.uniform(lat_range[0], lat_range[1], size=1500)\n",
    "lngs = np.random.uniform(lng_range[0], lng_range[1], size=1500)\n",
    "lat_lngs = zip(lats, lngs)\n",
    "\n",
    "# Identify nearest city for each lat, lng combination\n",
    "for lat_lng in lat_lngs:\n",
    "    countries = citipy.nearest_city(lat_lng[0], lat_lng[1]).country_code\n",
    "    \n",
    "    # If the city is unique, then add it to a our cities list\n",
    "    if country not in countries:\n",
    "        cities.append(country)\n",
    "\n",
    "# Print the city count to confirm sufficient count\n",
    "len(countries)"
   ]
  },
  {
   "cell_type": "code",
   "execution_count": 44,
   "metadata": {},
   "outputs": [
    {
     "data": {
      "text/plain": [
       "'us'"
      ]
     },
     "execution_count": 44,
     "metadata": {},
     "output_type": "execute_result"
    }
   ],
   "source": [
    "countries"
   ]
  },
  {
   "cell_type": "code",
   "execution_count": null,
   "metadata": {},
   "outputs": [],
   "source": []
  }
 ],
 "metadata": {
  "kernelspec": {
   "display_name": "Python [conda env:PythonData] *",
   "language": "python",
   "name": "conda-env-PythonData-py"
  },
  "language_info": {
   "codemirror_mode": {
    "name": "ipython",
    "version": 3
   },
   "file_extension": ".py",
   "mimetype": "text/x-python",
   "name": "python",
   "nbconvert_exporter": "python",
   "pygments_lexer": "ipython3",
   "version": "3.8.5"
  }
 },
 "nbformat": 4,
 "nbformat_minor": 4
}
