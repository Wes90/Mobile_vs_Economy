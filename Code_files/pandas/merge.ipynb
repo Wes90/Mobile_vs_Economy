{
 "metadata": {
  "language_info": {
   "codemirror_mode": {
    "name": "ipython",
    "version": 3
   },
   "file_extension": ".py",
   "mimetype": "text/x-python",
   "name": "python",
   "nbconvert_exporter": "python",
   "pygments_lexer": "ipython3",
   "version": "3.7.1-final"
  },
  "orig_nbformat": 2,
  "kernelspec": {
   "name": "python3",
   "display_name": "Python 3",
   "language": "python"
  }
 },
 "nbformat": 4,
 "nbformat_minor": 2,
 "cells": [
  {
   "cell_type": "code",
   "execution_count": 4,
   "metadata": {},
   "outputs": [],
   "source": [
    "import pandas as pd"
   ]
  },
  {
   "cell_type": "code",
   "execution_count": 5,
   "metadata": {},
   "outputs": [],
   "source": [
    "account_df = pd.read_csv(\"../Resources/data-account_ownership.csv\") \n",
    "capita_df = pd.read_csv(\"../Resources/data-per_capita_income.csv\")"
   ]
  },
  {
   "cell_type": "code",
   "execution_count": 9,
   "metadata": {},
   "outputs": [
    {
     "output_type": "execute_result",
     "data": {
      "text/plain": [
       "           country_name    2011_AO    2014_AO    2017_AO\n",
       "0           Afghanistan   9.005013   9.961000  14.893312\n",
       "1               Albania  28.268126  37.986355  40.015171\n",
       "2               Algeria  33.286114  50.475788  42.776627\n",
       "3            Arab World  22.260538  30.277130  37.165211\n",
       "4             Argentina  33.130219  50.197296  48.708488\n",
       "..                  ...        ...        ...        ...\n",
       "249       Venezuela, RB  44.116661  57.026325  73.494507\n",
       "250             Vietnam  21.369493  30.950945  30.795792\n",
       "251  West Bank and Gaza  19.428032  24.243807  25.022177\n",
       "252              Zambia  21.364910  35.644871  45.863258\n",
       "253            Zimbabwe  39.651211  32.389252  55.285137\n",
       "\n",
       "[254 rows x 4 columns]"
      ],
      "text/html": "<div>\n<style scoped>\n    .dataframe tbody tr th:only-of-type {\n        vertical-align: middle;\n    }\n\n    .dataframe tbody tr th {\n        vertical-align: top;\n    }\n\n    .dataframe thead th {\n        text-align: right;\n    }\n</style>\n<table border=\"1\" class=\"dataframe\">\n  <thead>\n    <tr style=\"text-align: right;\">\n      <th></th>\n      <th>country_name</th>\n      <th>2011_AO</th>\n      <th>2014_AO</th>\n      <th>2017_AO</th>\n    </tr>\n  </thead>\n  <tbody>\n    <tr>\n      <th>0</th>\n      <td>Afghanistan</td>\n      <td>9.005013</td>\n      <td>9.961000</td>\n      <td>14.893312</td>\n    </tr>\n    <tr>\n      <th>1</th>\n      <td>Albania</td>\n      <td>28.268126</td>\n      <td>37.986355</td>\n      <td>40.015171</td>\n    </tr>\n    <tr>\n      <th>2</th>\n      <td>Algeria</td>\n      <td>33.286114</td>\n      <td>50.475788</td>\n      <td>42.776627</td>\n    </tr>\n    <tr>\n      <th>3</th>\n      <td>Arab World</td>\n      <td>22.260538</td>\n      <td>30.277130</td>\n      <td>37.165211</td>\n    </tr>\n    <tr>\n      <th>4</th>\n      <td>Argentina</td>\n      <td>33.130219</td>\n      <td>50.197296</td>\n      <td>48.708488</td>\n    </tr>\n    <tr>\n      <th>...</th>\n      <td>...</td>\n      <td>...</td>\n      <td>...</td>\n      <td>...</td>\n    </tr>\n    <tr>\n      <th>249</th>\n      <td>Venezuela, RB</td>\n      <td>44.116661</td>\n      <td>57.026325</td>\n      <td>73.494507</td>\n    </tr>\n    <tr>\n      <th>250</th>\n      <td>Vietnam</td>\n      <td>21.369493</td>\n      <td>30.950945</td>\n      <td>30.795792</td>\n    </tr>\n    <tr>\n      <th>251</th>\n      <td>West Bank and Gaza</td>\n      <td>19.428032</td>\n      <td>24.243807</td>\n      <td>25.022177</td>\n    </tr>\n    <tr>\n      <th>252</th>\n      <td>Zambia</td>\n      <td>21.364910</td>\n      <td>35.644871</td>\n      <td>45.863258</td>\n    </tr>\n    <tr>\n      <th>253</th>\n      <td>Zimbabwe</td>\n      <td>39.651211</td>\n      <td>32.389252</td>\n      <td>55.285137</td>\n    </tr>\n  </tbody>\n</table>\n<p>254 rows × 4 columns</p>\n</div>"
     },
     "metadata": {},
     "execution_count": 9
    }
   ],
   "source": [
    "account_df\n"
   ]
  },
  {
   "cell_type": "code",
   "execution_count": 10,
   "metadata": {},
   "outputs": [
    {
     "output_type": "execute_result",
     "data": {
      "text/plain": [
       "    country_name  2011_pci  2014_pci  2017_pci\n",
       "0    Afghanistan       519       532       488\n",
       "1        Albania      3667      3775      3673\n",
       "2        Algeria      3960      4106      3248\n",
       "3         Angola      1500      2398      1756\n",
       "4     Arab World      5389      6041      5153\n",
       "..           ...       ...       ...       ...\n",
       "179      Vietnam      1254      1693      1937\n",
       "180        World      8507      8967      8865\n",
       "181  Yemen, Rep.      1027      1418       842\n",
       "182       Zambia      1140      1321      1104\n",
       "183     Zimbabwe       793      1134      1233\n",
       "\n",
       "[184 rows x 4 columns]"
      ],
      "text/html": "<div>\n<style scoped>\n    .dataframe tbody tr th:only-of-type {\n        vertical-align: middle;\n    }\n\n    .dataframe tbody tr th {\n        vertical-align: top;\n    }\n\n    .dataframe thead th {\n        text-align: right;\n    }\n</style>\n<table border=\"1\" class=\"dataframe\">\n  <thead>\n    <tr style=\"text-align: right;\">\n      <th></th>\n      <th>country_name</th>\n      <th>2011_pci</th>\n      <th>2014_pci</th>\n      <th>2017_pci</th>\n    </tr>\n  </thead>\n  <tbody>\n    <tr>\n      <th>0</th>\n      <td>Afghanistan</td>\n      <td>519</td>\n      <td>532</td>\n      <td>488</td>\n    </tr>\n    <tr>\n      <th>1</th>\n      <td>Albania</td>\n      <td>3667</td>\n      <td>3775</td>\n      <td>3673</td>\n    </tr>\n    <tr>\n      <th>2</th>\n      <td>Algeria</td>\n      <td>3960</td>\n      <td>4106</td>\n      <td>3248</td>\n    </tr>\n    <tr>\n      <th>3</th>\n      <td>Angola</td>\n      <td>1500</td>\n      <td>2398</td>\n      <td>1756</td>\n    </tr>\n    <tr>\n      <th>4</th>\n      <td>Arab World</td>\n      <td>5389</td>\n      <td>6041</td>\n      <td>5153</td>\n    </tr>\n    <tr>\n      <th>...</th>\n      <td>...</td>\n      <td>...</td>\n      <td>...</td>\n      <td>...</td>\n    </tr>\n    <tr>\n      <th>179</th>\n      <td>Vietnam</td>\n      <td>1254</td>\n      <td>1693</td>\n      <td>1937</td>\n    </tr>\n    <tr>\n      <th>180</th>\n      <td>World</td>\n      <td>8507</td>\n      <td>8967</td>\n      <td>8865</td>\n    </tr>\n    <tr>\n      <th>181</th>\n      <td>Yemen, Rep.</td>\n      <td>1027</td>\n      <td>1418</td>\n      <td>842</td>\n    </tr>\n    <tr>\n      <th>182</th>\n      <td>Zambia</td>\n      <td>1140</td>\n      <td>1321</td>\n      <td>1104</td>\n    </tr>\n    <tr>\n      <th>183</th>\n      <td>Zimbabwe</td>\n      <td>793</td>\n      <td>1134</td>\n      <td>1233</td>\n    </tr>\n  </tbody>\n</table>\n<p>184 rows × 4 columns</p>\n</div>"
     },
     "metadata": {},
     "execution_count": 10
    }
   ],
   "source": [
    "capita_df "
   ]
  },
  {
   "cell_type": "code",
   "execution_count": 11,
   "metadata": {},
   "outputs": [
    {
     "output_type": "execute_result",
     "data": {
      "text/plain": [
       "    country_name    2011_AO    2014_AO    2017_AO  2011_pci  2014_pci  \\\n",
       "0    Afghanistan   9.005013   9.961000  14.893312       519       532   \n",
       "1    Afghanistan   9.005013   9.961000  14.893312       519       532   \n",
       "2        Albania  28.268126  37.986355  40.015171      3667      3775   \n",
       "3        Albania  28.268126  37.986355  40.015171      3667      3775   \n",
       "4        Algeria  33.286114  50.475788  42.776627      3960      4106   \n",
       "..           ...        ...        ...        ...       ...       ...   \n",
       "237      Vietnam  21.369493  30.950945  30.795792      1254      1693   \n",
       "238       Zambia  21.364910  35.644871  45.863258      1140      1321   \n",
       "239       Zambia  21.364910  35.644871  45.863258      1140      1321   \n",
       "240     Zimbabwe  39.651211  32.389252  55.285137       793      1134   \n",
       "241     Zimbabwe  39.651211  32.389252  55.285137       793      1134   \n",
       "\n",
       "     2017_pci  \n",
       "0         488  \n",
       "1         488  \n",
       "2        3673  \n",
       "3        3673  \n",
       "4        3248  \n",
       "..        ...  \n",
       "237      1937  \n",
       "238      1104  \n",
       "239      1104  \n",
       "240      1233  \n",
       "241      1233  \n",
       "\n",
       "[242 rows x 7 columns]"
      ],
      "text/html": "<div>\n<style scoped>\n    .dataframe tbody tr th:only-of-type {\n        vertical-align: middle;\n    }\n\n    .dataframe tbody tr th {\n        vertical-align: top;\n    }\n\n    .dataframe thead th {\n        text-align: right;\n    }\n</style>\n<table border=\"1\" class=\"dataframe\">\n  <thead>\n    <tr style=\"text-align: right;\">\n      <th></th>\n      <th>country_name</th>\n      <th>2011_AO</th>\n      <th>2014_AO</th>\n      <th>2017_AO</th>\n      <th>2011_pci</th>\n      <th>2014_pci</th>\n      <th>2017_pci</th>\n    </tr>\n  </thead>\n  <tbody>\n    <tr>\n      <th>0</th>\n      <td>Afghanistan</td>\n      <td>9.005013</td>\n      <td>9.961000</td>\n      <td>14.893312</td>\n      <td>519</td>\n      <td>532</td>\n      <td>488</td>\n    </tr>\n    <tr>\n      <th>1</th>\n      <td>Afghanistan</td>\n      <td>9.005013</td>\n      <td>9.961000</td>\n      <td>14.893312</td>\n      <td>519</td>\n      <td>532</td>\n      <td>488</td>\n    </tr>\n    <tr>\n      <th>2</th>\n      <td>Albania</td>\n      <td>28.268126</td>\n      <td>37.986355</td>\n      <td>40.015171</td>\n      <td>3667</td>\n      <td>3775</td>\n      <td>3673</td>\n    </tr>\n    <tr>\n      <th>3</th>\n      <td>Albania</td>\n      <td>28.268126</td>\n      <td>37.986355</td>\n      <td>40.015171</td>\n      <td>3667</td>\n      <td>3775</td>\n      <td>3673</td>\n    </tr>\n    <tr>\n      <th>4</th>\n      <td>Algeria</td>\n      <td>33.286114</td>\n      <td>50.475788</td>\n      <td>42.776627</td>\n      <td>3960</td>\n      <td>4106</td>\n      <td>3248</td>\n    </tr>\n    <tr>\n      <th>...</th>\n      <td>...</td>\n      <td>...</td>\n      <td>...</td>\n      <td>...</td>\n      <td>...</td>\n      <td>...</td>\n      <td>...</td>\n    </tr>\n    <tr>\n      <th>237</th>\n      <td>Vietnam</td>\n      <td>21.369493</td>\n      <td>30.950945</td>\n      <td>30.795792</td>\n      <td>1254</td>\n      <td>1693</td>\n      <td>1937</td>\n    </tr>\n    <tr>\n      <th>238</th>\n      <td>Zambia</td>\n      <td>21.364910</td>\n      <td>35.644871</td>\n      <td>45.863258</td>\n      <td>1140</td>\n      <td>1321</td>\n      <td>1104</td>\n    </tr>\n    <tr>\n      <th>239</th>\n      <td>Zambia</td>\n      <td>21.364910</td>\n      <td>35.644871</td>\n      <td>45.863258</td>\n      <td>1140</td>\n      <td>1321</td>\n      <td>1104</td>\n    </tr>\n    <tr>\n      <th>240</th>\n      <td>Zimbabwe</td>\n      <td>39.651211</td>\n      <td>32.389252</td>\n      <td>55.285137</td>\n      <td>793</td>\n      <td>1134</td>\n      <td>1233</td>\n    </tr>\n    <tr>\n      <th>241</th>\n      <td>Zimbabwe</td>\n      <td>39.651211</td>\n      <td>32.389252</td>\n      <td>55.285137</td>\n      <td>793</td>\n      <td>1134</td>\n      <td>1233</td>\n    </tr>\n  </tbody>\n</table>\n<p>242 rows × 7 columns</p>\n</div>"
     },
     "metadata": {},
     "execution_count": 11
    }
   ],
   "source": [
    "account_df.merge(capita_df)"
   ]
  },
  {
   "cell_type": "code",
   "execution_count": null,
   "metadata": {},
   "outputs": [],
   "source": []
  }
 ]
}