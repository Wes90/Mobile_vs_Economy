{
 "metadata": {
  "language_info": {
   "codemirror_mode": {
    "name": "ipython",
    "version": 3
   },
   "file_extension": ".py",
   "mimetype": "text/x-python",
   "name": "python",
   "nbconvert_exporter": "python",
   "pygments_lexer": "ipython3",
   "version": "3.8.3-final"
  },
  "orig_nbformat": 2,
  "kernelspec": {
   "name": "pythondata",
   "display_name": "Python (PythonData)",
   "language": "python"
  }
 },
 "nbformat": 4,
 "nbformat_minor": 2,
 "cells": [
  {
   "cell_type": "code",
   "execution_count": 23,
   "metadata": {},
   "outputs": [],
   "source": [
    "# Dependencies and Setup\n",
    "import pandas as pd\n",
    "import numpy as np"
   ]
  },
  {
   "cell_type": "code",
   "execution_count": 24,
   "metadata": {},
   "outputs": [],
   "source": [
    "# File to Load (Remember to Change These)\n",
    "file_1 = \"Mergerd_table.csv\"\n",
    "file_2 = \"country_pop.csv\""
   ]
  },
  {
   "cell_type": "code",
   "execution_count": 25,
   "metadata": {},
   "outputs": [],
   "source": [
    "# Read Purchasing File and store into Pandas data frame\n",
    "data_1 = pd.read_csv(file_1)\n",
    "data_2 = pd.read_csv(file_2)\n",
    "merged = data_1.merge(data_2, on='Country name')\n",
    "# merged"
   ]
  },
  {
   "cell_type": "code",
   "execution_count": 26,
   "metadata": {},
   "outputs": [],
   "source": [
    "# Change data from string to integer\n",
    "#data[\"2011 AO\"] = data_df[\"2011 AO\"].astype(int)"
   ]
  },
  {
   "cell_type": "code",
   "execution_count": 27,
   "metadata": {},
   "outputs": [],
   "source": [
    "merged['2011_SUBS_norm'] = merged['2011 SUBS']/(merged['2011']*1000)\n",
    "# merged.head"
   ]
  },
  {
   "cell_type": "code",
   "execution_count": 28,
   "metadata": {},
   "outputs": [],
   "source": [
    "merged['2014_SUBS_norm'] = merged['2014 SUBS']/(merged['2014']*1000)\n",
    "# merged.head"
   ]
  },
  {
   "cell_type": "code",
   "execution_count": 29,
   "metadata": {},
   "outputs": [],
   "source": [
    "merged['2017_SUBS_norm'] = merged['2017 SUBS']/(merged['2017']*1000)\n",
    "# merged.head"
   ]
  },
  {
   "cell_type": "code",
   "execution_count": 46,
   "metadata": {},
   "outputs": [
    {
     "output_type": "execute_result",
     "data": {
      "text/plain": [
       "   Unnamed: 0 Country_name   2011_AO  2014_AO    2017_AO  2011_PCI  2014_PCI  \\\n",
       "0           0  Afghanistan  9.005013    9.961  14.893312       519       532   \n",
       "\n",
       "   2017_PCI  2011_SUBS  2014_SUBS  2017_SUBS       2011       2014       2017  \\\n",
       "0       488   13797900   18407200   23929700  30117.411  33370.804  36296.111   \n",
       "\n",
       "   2011_SUBS_norm  2014_SUBS_norm  2017_SUBS_norm  \n",
       "0        0.458137        0.551596        0.659291  "
      ],
      "text/html": "<div>\n<style scoped>\n    .dataframe tbody tr th:only-of-type {\n        vertical-align: middle;\n    }\n\n    .dataframe tbody tr th {\n        vertical-align: top;\n    }\n\n    .dataframe thead th {\n        text-align: right;\n    }\n</style>\n<table border=\"1\" class=\"dataframe\">\n  <thead>\n    <tr style=\"text-align: right;\">\n      <th></th>\n      <th>Unnamed: 0</th>\n      <th>Country_name</th>\n      <th>2011_AO</th>\n      <th>2014_AO</th>\n      <th>2017_AO</th>\n      <th>2011_PCI</th>\n      <th>2014_PCI</th>\n      <th>2017_PCI</th>\n      <th>2011_SUBS</th>\n      <th>2014_SUBS</th>\n      <th>2017_SUBS</th>\n      <th>2011</th>\n      <th>2014</th>\n      <th>2017</th>\n      <th>2011_SUBS_norm</th>\n      <th>2014_SUBS_norm</th>\n      <th>2017_SUBS_norm</th>\n    </tr>\n  </thead>\n  <tbody>\n    <tr>\n      <th>0</th>\n      <td>0</td>\n      <td>Afghanistan</td>\n      <td>9.005013</td>\n      <td>9.961</td>\n      <td>14.893312</td>\n      <td>519</td>\n      <td>532</td>\n      <td>488</td>\n      <td>13797900</td>\n      <td>18407200</td>\n      <td>23929700</td>\n      <td>30117.411</td>\n      <td>33370.804</td>\n      <td>36296.111</td>\n      <td>0.458137</td>\n      <td>0.551596</td>\n      <td>0.659291</td>\n    </tr>\n  </tbody>\n</table>\n</div>"
     },
     "metadata": {},
     "execution_count": 46
    }
   ],
   "source": [
    "normalized = merged.rename(columns = {'Country name':'Country_name', '2011 AO':'2011_AO', '2014 AO':'2014_AO', '2017 AO':'2017_AO', '2011 PCI ':'2011_PCI', '2014 PCI':'2014_PCI', '2017 PCI': '2017_PCI', '2011 SUBS':'2011_SUBS', '2014 SUBS':'2014_SUBS', '2017 SUBS':'2017_SUBS'})\n",
    "normalized.head(1)"
   ]
  },
  {
   "cell_type": "code",
   "execution_count": 47,
   "metadata": {},
   "outputs": [],
   "source": [
    "normalized.to_csv('merged_normalized_data.csv', index = False, header=True)"
   ]
  },
  {
   "cell_type": "code",
   "execution_count": null,
   "metadata": {},
   "outputs": [],
   "source": []
  }
 ]
}