{
 "metadata": {
  "language_info": {
   "codemirror_mode": {
    "name": "ipython",
    "version": 3
   },
   "file_extension": ".py",
   "mimetype": "text/x-python",
   "name": "python",
   "nbconvert_exporter": "python",
   "pygments_lexer": "ipython3",
   "version": "3.8.3-final"
  },
  "orig_nbformat": 2,
  "kernelspec": {
   "name": "pythondata",
   "display_name": "Python (PythonData)",
   "language": "python"
  }
 },
 "nbformat": 4,
 "nbformat_minor": 2,
 "cells": [
  {
   "cell_type": "code",
   "execution_count": 2,
   "metadata": {},
   "outputs": [],
   "source": [
    "# Dependencies and Setup\n",
    "import pandas as pd\n",
    "import numpy as np"
   ]
  },
  {
   "cell_type": "code",
   "execution_count": 3,
   "metadata": {},
   "outputs": [],
   "source": [
    "# File to Load (Remember to Change These)\n",
    "file_1 = \"Mergerd_table.csv\""
   ]
  },
  {
   "cell_type": "code",
   "execution_count": 4,
   "metadata": {},
   "outputs": [
    {
     "output_type": "execute_result",
     "data": {
      "text/plain": [
       "   Unnamed: 0 Country name    2011 AO    2014 AO    2017 AO  2011 PCI   \\\n",
       "0           0  Afghanistan   9.005013   9.961000  14.893312        519   \n",
       "1           1      Albania  28.268126  37.986355  40.015171       3667   \n",
       "2           2      Algeria  33.286114  50.475788  42.776627       3960   \n",
       "3           3   Arab World  22.260538  30.277130  37.165211       5389   \n",
       "4           4    Argentina  33.130219  50.197296  48.708488      10957   \n",
       "\n",
       "   2014 PCI  2017 PCI  2011 SUBS  2014 SUBS  2017 SUBS  \n",
       "0       532       488   13797900   18407200   23929700  \n",
       "1      3775      3673    3100000    3359650    3625700  \n",
       "2      4106      3248   35615900   43298200   45845700  \n",
       "3      6041      5153  351957917  415029269  416484296  \n",
       "4     10434     12344   60722700   61234200   61897400  "
      ],
      "text/html": "<div>\n<style scoped>\n    .dataframe tbody tr th:only-of-type {\n        vertical-align: middle;\n    }\n\n    .dataframe tbody tr th {\n        vertical-align: top;\n    }\n\n    .dataframe thead th {\n        text-align: right;\n    }\n</style>\n<table border=\"1\" class=\"dataframe\">\n  <thead>\n    <tr style=\"text-align: right;\">\n      <th></th>\n      <th>Unnamed: 0</th>\n      <th>Country name</th>\n      <th>2011 AO</th>\n      <th>2014 AO</th>\n      <th>2017 AO</th>\n      <th>2011 PCI</th>\n      <th>2014 PCI</th>\n      <th>2017 PCI</th>\n      <th>2011 SUBS</th>\n      <th>2014 SUBS</th>\n      <th>2017 SUBS</th>\n    </tr>\n  </thead>\n  <tbody>\n    <tr>\n      <th>0</th>\n      <td>0</td>\n      <td>Afghanistan</td>\n      <td>9.005013</td>\n      <td>9.961000</td>\n      <td>14.893312</td>\n      <td>519</td>\n      <td>532</td>\n      <td>488</td>\n      <td>13797900</td>\n      <td>18407200</td>\n      <td>23929700</td>\n    </tr>\n    <tr>\n      <th>1</th>\n      <td>1</td>\n      <td>Albania</td>\n      <td>28.268126</td>\n      <td>37.986355</td>\n      <td>40.015171</td>\n      <td>3667</td>\n      <td>3775</td>\n      <td>3673</td>\n      <td>3100000</td>\n      <td>3359650</td>\n      <td>3625700</td>\n    </tr>\n    <tr>\n      <th>2</th>\n      <td>2</td>\n      <td>Algeria</td>\n      <td>33.286114</td>\n      <td>50.475788</td>\n      <td>42.776627</td>\n      <td>3960</td>\n      <td>4106</td>\n      <td>3248</td>\n      <td>35615900</td>\n      <td>43298200</td>\n      <td>45845700</td>\n    </tr>\n    <tr>\n      <th>3</th>\n      <td>3</td>\n      <td>Arab World</td>\n      <td>22.260538</td>\n      <td>30.277130</td>\n      <td>37.165211</td>\n      <td>5389</td>\n      <td>6041</td>\n      <td>5153</td>\n      <td>351957917</td>\n      <td>415029269</td>\n      <td>416484296</td>\n    </tr>\n    <tr>\n      <th>4</th>\n      <td>4</td>\n      <td>Argentina</td>\n      <td>33.130219</td>\n      <td>50.197296</td>\n      <td>48.708488</td>\n      <td>10957</td>\n      <td>10434</td>\n      <td>12344</td>\n      <td>60722700</td>\n      <td>61234200</td>\n      <td>61897400</td>\n    </tr>\n  </tbody>\n</table>\n</div>"
     },
     "metadata": {},
     "execution_count": 4
    }
   ],
   "source": [
    "# Read Purchasing File and store into Pandas data frame\n",
    "data = pd.read_csv(file_1)\n",
    "data.head()"
   ]
  },
  {
   "cell_type": "code",
   "execution_count": 8,
   "metadata": {},
   "outputs": [],
   "source": [
    "# Change data from string to integer\n",
    "#data[\"2011 AO\"] = data_df[\"2011 AO\"].astype(int)"
   ]
  },
  {
   "cell_type": "code",
   "execution_count": 12,
   "metadata": {},
   "outputs": [
    {
     "output_type": "error",
     "ename": "SyntaxError",
     "evalue": "invalid syntax (<ipython-input-12-c8b96a614cec>, line 1)",
     "traceback": [
      "\u001b[1;36m  File \u001b[1;32m\"<ipython-input-12-c8b96a614cec>\"\u001b[1;36m, line \u001b[1;32m1\u001b[0m\n\u001b[1;33m    data[\"2011 AO_norm\"] = data[\"2011 AO\"]/data[2011 SUBS]\u001b[0m\n\u001b[1;37m                                                     ^\u001b[0m\n\u001b[1;31mSyntaxError\u001b[0m\u001b[1;31m:\u001b[0m invalid syntax\n"
     ]
    }
   ],
   "source": [
    "data[\"2011 AO_norm\"] = data[\"2011 AO\"]/data[\"2011 SUBS\"]\n",
    "data.head"
   ]
  },
  {
   "cell_type": "code",
   "execution_count": null,
   "metadata": {},
   "outputs": [],
   "source": []
  }
 ]
}